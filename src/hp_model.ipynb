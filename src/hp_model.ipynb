{
 "cells": [
  {
   "cell_type": "code",
   "execution_count": 308,
   "metadata": {},
   "outputs": [],
   "source": [
    "import numpy as np\n",
    "import pandas as pd\n",
    "from keras.models import Sequential, load_model\n",
    "from keras.layers import Dense, Embedding, LSTM, Dropout\n",
    "from keras.utils import to_categorical\n",
    "from random import randint\n",
    "import re"
   ]
  },
  {
   "cell_type": "code",
   "execution_count": 309,
   "metadata": {},
   "outputs": [
    {
     "name": "stderr",
     "output_type": "stream",
     "text": [
      "Failed to detect the name of this notebook, you can set it manually with the WANDB_NOTEBOOK_NAME environment variable to enable code saving.\n",
      "\u001b[34m\u001b[1mwandb\u001b[0m: Currently logged in as: \u001b[33mnataliekraft5426\u001b[0m (\u001b[33mnak-develops\u001b[0m). Use \u001b[1m`wandb login --relogin`\u001b[0m to force relogin\n"
     ]
    },
    {
     "data": {
      "text/html": [
       "Tracking run with wandb version 0.13.6"
      ],
      "text/plain": [
       "<IPython.core.display.HTML object>"
      ]
     },
     "metadata": {},
     "output_type": "display_data"
    },
    {
     "data": {
      "text/html": [
       "Run data is saved locally in <code>/Users/nakraft/Documents/Curriculum Learning/hillylearning/src/wandb/run-20221213_004232-1j22bay1</code>"
      ],
      "text/plain": [
       "<IPython.core.display.HTML object>"
      ]
     },
     "metadata": {},
     "output_type": "display_data"
    },
    {
     "data": {
      "text/html": [
       "Syncing run <strong><a href=\"https://wandb.ai/nak-develops/hp-cl/runs/1j22bay1\" target=\"_blank\">giddy-sky-1</a></strong> to <a href=\"https://wandb.ai/nak-develops/hp-cl\" target=\"_blank\">Weights & Biases</a> (<a href=\"https://wandb.me/run\" target=\"_blank\">docs</a>)<br/>"
      ],
      "text/plain": [
       "<IPython.core.display.HTML object>"
      ]
     },
     "metadata": {},
     "output_type": "display_data"
    },
    {
     "data": {
      "text/html": [
       "<button onClick=\"this.nextSibling.style.display='block';this.style.display='none';\">Display W&B run</button><iframe src=\"https://wandb.ai/nak-develops/hp-cl/runs/1j22bay1?jupyter=true\" style=\"border:none;width:100%;height:420px;display:none;\"></iframe>"
      ],
      "text/plain": [
       "<wandb.sdk.wandb_run.Run at 0x28a343a00>"
      ]
     },
     "execution_count": 309,
     "metadata": {},
     "output_type": "execute_result"
    }
   ],
   "source": [
    "import wandb\n",
    "\n",
    "wandb.init(project=\"hp-cl\", entity=\"nak-develops\")"
   ]
  },
  {
   "cell_type": "markdown",
   "metadata": {},
   "source": [
    "## Gather and preprocess text data "
   ]
  },
  {
   "cell_type": "code",
   "execution_count": 310,
   "metadata": {},
   "outputs": [
    {
     "data": {
      "text/plain": [
       "(61151, 8)"
      ]
     },
     "execution_count": 310,
     "metadata": {},
     "output_type": "execute_result"
    }
   ],
   "source": [
    "hp_acl = pd.read_csv(\"../data/harrypotter_acl.csv\")\n",
    "hp_acl = hp_acl[~pd.isna(hp_acl['sentence_clean'])]\n",
    "hp_acl.shape\n",
    "\n",
    "# hp_cl = pd.read_csv(\"../data/harrypotter_cl.csv\")\n",
    "# hp_cl = hp_cl[~pd.isna(hp_cl['sentence_clean'])]\n",
    "# hp_cl.shape"
   ]
  },
  {
   "cell_type": "markdown",
   "metadata": {},
   "source": [
    "## Tokenize Input Data "
   ]
  },
  {
   "cell_type": "code",
   "execution_count": 311,
   "metadata": {},
   "outputs": [
    {
     "name": "stdout",
     "output_type": "stream",
     "text": [
      "Total Words: 622359\n",
      "Unique Words: 20888\n"
     ]
    }
   ],
   "source": [
    "from tensorflow.keras.preprocessing.text import Tokenizer\n",
    "from nltk.tokenize import word_tokenize\n",
    "\n",
    "# anti curriculum learning\n",
    "hp_text_words = \" \".join(hp_acl['sentence_clean'])\n",
    "\n",
    "hp_text_words = (word_tokenize(hp_text_words))\n",
    "n_words = len(hp_text_words)\n",
    "unique_words = len(set(hp_text_words))\n",
    "\n",
    "print('Total Words: %d' % n_words)\n",
    "print('Unique Words: %d' % unique_words)\n",
    "\n",
    "tokenizer = Tokenizer(num_words=n_words)\n",
    "tokenizer.fit_on_texts(hp_text_words)"
   ]
  },
  {
   "cell_type": "code",
   "execution_count": 312,
   "metadata": {},
   "outputs": [
    {
     "name": "stdout",
     "output_type": "stream",
     "text": [
      "Vocab Size: 20889\n"
     ]
    }
   ],
   "source": [
    "vocab_size = len(tokenizer.word_index) + 1\n",
    "word_2_index = tokenizer.word_index\n",
    "print(\"Vocab Size: \" + str(vocab_size))"
   ]
  },
  {
   "cell_type": "markdown",
   "metadata": {},
   "source": [
    "## Modify the shape of the data "
   ]
  },
  {
   "cell_type": "code",
   "execution_count": 313,
   "metadata": {},
   "outputs": [
    {
     "name": "stdout",
     "output_type": "stream",
     "text": [
      "[90, 14487, 192, 276, 2765, 1051, 1837, 3510, 64, 136]\n"
     ]
    }
   ],
   "source": [
    "input_sequence = []\n",
    "output_words = []\n",
    "input_seq_length = 10\n",
    "\n",
    "for i in range(0, n_words - input_seq_length , 1):\n",
    "    in_seq = hp_text_words[i:i + input_seq_length]\n",
    "    out_seq = hp_text_words[i + input_seq_length]\n",
    "    input_sequence.append([word_2_index[word] for word in in_seq])\n",
    "    output_words.append(word_2_index[out_seq])\n",
    "\n",
    "print(input_sequence[0])"
   ]
  },
  {
   "cell_type": "code",
   "execution_count": 314,
   "metadata": {},
   "outputs": [],
   "source": [
    "X = np.reshape(input_sequence, (len(input_sequence), input_seq_length, 1))\n",
    "X = X / float(vocab_size)\n",
    "\n",
    "y = to_categorical(output_words)"
   ]
  },
  {
   "cell_type": "code",
   "execution_count": 315,
   "metadata": {},
   "outputs": [
    {
     "name": "stdout",
     "output_type": "stream",
     "text": [
      "X shape: (622349, 10, 1)\n",
      "y shape: (622349, 20889)\n"
     ]
    }
   ],
   "source": [
    "print(\"X shape:\", X.shape)\n",
    "print(\"y shape:\", y.shape)"
   ]
  },
  {
   "cell_type": "markdown",
   "metadata": {},
   "source": [
    "## Training the Model"
   ]
  },
  {
   "cell_type": "code",
   "execution_count": 316,
   "metadata": {},
   "outputs": [
    {
     "name": "stdout",
     "output_type": "stream",
     "text": [
      "Model: \"sequential_13\"\n",
      "_________________________________________________________________\n",
      " Layer (type)                Output Shape              Param #   \n",
      "=================================================================\n",
      " lstm_39 (LSTM)              (None, 10, 800)           2566400   \n",
      "                                                                 \n",
      " lstm_40 (LSTM)              (None, 10, 800)           5123200   \n",
      "                                                                 \n",
      " lstm_41 (LSTM)              (None, 800)               5123200   \n",
      "                                                                 \n",
      " dense_13 (Dense)            (None, 20889)             16732089  \n",
      "                                                                 \n",
      "=================================================================\n",
      "Total params: 29,544,889\n",
      "Trainable params: 29,544,889\n",
      "Non-trainable params: 0\n",
      "_________________________________________________________________\n",
      "Epoch 1/4\n",
      "1497/7780 [====>.........................] - ETA: 40:23 - loss: 7.9967"
     ]
    },
    {
     "name": "stderr",
     "output_type": "stream",
     "text": [
      "wandb: Network error (ConnectTimeout), entering retry loop.\n"
     ]
    },
    {
     "name": "stdout",
     "output_type": "stream",
     "text": [
      "7780/7780 [==============================] - 4109s 528ms/step - loss: 7.8990\n",
      "Epoch 2/4\n",
      "1360/7780 [====>.........................] - ETA: 59:36 - loss: 7.8211"
     ]
    },
    {
     "name": "stderr",
     "output_type": "stream",
     "text": [
      "wandb: Network error (ConnectionError), entering retry loop.\n"
     ]
    },
    {
     "name": "stdout",
     "output_type": "stream",
     "text": [
      "7780/7780 [==============================] - 3631s 467ms/step - loss: 8.0300\n",
      "Epoch 3/4\n",
      "7780/7780 [==============================] - 3174s 408ms/step - loss: 7.9072\n",
      "Epoch 4/4\n",
      "7780/7780 [==============================] - 3171s 408ms/step - loss: 7.8942\n"
     ]
    },
    {
     "data": {
      "text/plain": [
       "<keras.callbacks.History at 0x3193d2bb0>"
      ]
     },
     "execution_count": 316,
     "metadata": {},
     "output_type": "execute_result"
    }
   ],
   "source": [
    "model = Sequential()\n",
    "model.add(LSTM(800, input_shape=(X.shape[1], X.shape[2]), return_sequences=True))\n",
    "model.add(LSTM(800, return_sequences=True))\n",
    "model.add(LSTM(800))\n",
    "model.add(Dense(y.shape[1], activation='softmax'))\n",
    "\n",
    "model.summary()\n",
    "\n",
    "model.compile(loss='categorical_crossentropy', optimizer='adam')\n",
    "\n",
    "wandb.watch(model, log_freq=100)\n",
    "\n",
    "model.fit(X, y, batch_size=80, epochs=4, verbose=1)\n",
    "wandb.log"
   ]
  },
  {
   "cell_type": "markdown",
   "metadata": {},
   "source": [
    "## Experiment "
   ]
  },
  {
   "cell_type": "code",
   "execution_count": 320,
   "metadata": {},
   "outputs": [],
   "source": [
    "predicted_w = []\n",
    "def prediction(sent):\n",
    "    random_seq = [word_2_index[i] for i in sent]\n",
    "    print(random_seq)\n",
    "    index_2_word = dict(map(reversed, word_2_index.items()))\n",
    "\n",
    "    word_sequence = [index_2_word[value] for value in random_seq]\n",
    "\n",
    "    print(' '.join(word_sequence))\n",
    "\n",
    "    [predicted_w.append(t) for t in random_seq]\n",
    "    for i in range(10):\n",
    "        int_sample = np.reshape(random_seq, (1, len(random_seq), 1))\n",
    "        int_sample = int_sample / float(vocab_size)\n",
    "\n",
    "        predicted_word_index = model.predict(int_sample, verbose=0)\n",
    "        aa = pd.DataFrame(predicted_word_index).transpose().reset_index()\n",
    "        aa = aa.loc[~aa.index.isin(predicted_w)]\n",
    "        predicted_word_id = aa.sort_values(by=[0], ascending=False).reset_index()['index'][0]\n",
    "\n",
    "        predicted_w.append(predicted_word_id)\n",
    "        seq_in = [index_2_word[index] for index in random_seq]\n",
    "        word_sequence.append(index_2_word[ predicted_word_id])\n",
    "\n",
    "        random_seq.append(predicted_word_id)\n",
    "        random_seq = random_seq[1:len(random_seq)]\n",
    "\n",
    "\n",
    "    final_output = \"\"\n",
    "    for word in word_sequence:\n",
    "        final_output = final_output + \" \" + word\n",
    "\n",
    "    print(final_output)"
   ]
  },
  {
   "cell_type": "code",
   "execution_count": 321,
   "metadata": {},
   "outputs": [],
   "source": [
    "trans1 = ['harry', 'went', 'to', 'hermione', 'with', 'only', 'one', 'thing', 'to', 'say']\n",
    "trans2 = ['harry', 'loved', 'hedwig', 'and', 'wanted', 'to', 'protect', 'him', 'but', 'voldemort']\n",
    "trans3 = ['he', 'was', 'an', 'excellent', 'quidditch', 'player', 'himself', 'you', 'are', 'joking']\n",
    "trans4 = ['the', 'dursleys', 'knew', 'that', 'potters', 'had', 'small', 'son', 'too', 'but']\n",
    "trans5 = ['he', 'was', 'expelled', 'and', 'that', 'he', 'was', 'now', 'facing', 'three']"
   ]
  },
  {
   "cell_type": "code",
   "execution_count": 322,
   "metadata": {},
   "outputs": [
    {
     "name": "stdout",
     "output_type": "stream",
     "text": [
      "[1, 131, 10, 4, 134, 880, 11, 143, 10, 95]\n",
      "harry went to hermione with only one thing to say\n",
      " harry went to hermione with only one thing to say said ron the dumbledore back and see could right would\n"
     ]
    }
   ],
   "source": [
    "prediction(trans1)"
   ]
  },
  {
   "cell_type": "code",
   "execution_count": 323,
   "metadata": {},
   "outputs": [
    {
     "name": "stdout",
     "output_type": "stream",
     "text": [
      "[1, 2191, 557, 9, 165, 10, 2037, 121, 149, 52]\n",
      "harry loved hedwig and wanted to protect him but voldemort\n",
      " harry loved hedwig and wanted to protect him but voldemort like it got know looked weasley around hagrid professor time\n"
     ]
    }
   ],
   "source": [
    "prediction(trans2)"
   ]
  },
  {
   "cell_type": "code",
   "execution_count": 324,
   "metadata": {},
   "outputs": [
    {
     "name": "stdout",
     "output_type": "stream",
     "text": [
      "[17, 36, 447, 984, 241, 2737, 1155, 42, 570, 3214]\n",
      "he was an excellent quidditch player himself you are joking\n",
      " he was an excellent quidditch player himself you are joking well snape mr still though in face knew his eyes\n"
     ]
    }
   ],
   "source": [
    "prediction(trans3)"
   ]
  },
  {
   "cell_type": "code",
   "execution_count": 325,
   "metadata": {},
   "outputs": [
    {
     "name": "stdout",
     "output_type": "stream",
     "text": [
      "[5, 516, 76, 75, 2427, 83, 199, 610, 977, 149]\n",
      "the dursleys knew that potters had small son too but\n",
      " the dursleys knew that potters had small son too but get think looking of little head room wand people us\n"
     ]
    }
   ],
   "source": [
    "prediction(trans4)\n"
   ]
  },
  {
   "cell_type": "code",
   "execution_count": 326,
   "metadata": {},
   "outputs": [
    {
     "name": "stdout",
     "output_type": "stream",
     "text": [
      "[17, 36, 1371, 9, 75, 17, 36, 399, 1120, 111]\n",
      "he was expelled and that he was now facing three\n",
      " he was expelled and that he was now facing three going toward something sirius behind look heard come really seemed\n"
     ]
    },
    {
     "name": "stderr",
     "output_type": "stream",
     "text": [
      "wandb: Network error (ConnectionError), entering retry loop.\n"
     ]
    }
   ],
   "source": [
    "prediction(trans5)"
   ]
  },
  {
   "cell_type": "code",
   "execution_count": null,
   "metadata": {},
   "outputs": [],
   "source": []
  }
 ],
 "metadata": {
  "kernelspec": {
   "display_name": "venv-metal",
   "language": "python",
   "name": "venv-metal"
  },
  "language_info": {
   "codemirror_mode": {
    "name": "ipython",
    "version": 3
   },
   "file_extension": ".py",
   "mimetype": "text/x-python",
   "name": "python",
   "nbconvert_exporter": "python",
   "pygments_lexer": "ipython3",
   "version": "3.9.12"
  },
  "orig_nbformat": 4,
  "vscode": {
   "interpreter": {
    "hash": "b0fa6594d8f4cbf19f97940f81e996739fb7646882a419484c72d19e05852a7e"
   }
  }
 },
 "nbformat": 4,
 "nbformat_minor": 2
}
