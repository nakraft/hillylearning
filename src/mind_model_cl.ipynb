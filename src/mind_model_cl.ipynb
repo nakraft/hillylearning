{
 "cells": [
  {
   "cell_type": "code",
   "execution_count": 1,
   "metadata": {},
   "outputs": [],
   "source": [
    "import numpy as np\n",
    "import pandas as pd\n",
    "from keras.models import Sequential, load_model\n",
    "from keras.layers import Dense, Embedding, LSTM, Dropout\n",
    "from keras.utils import to_categorical\n",
    "from random import randint\n",
    "import re"
   ]
  },
  {
   "cell_type": "code",
   "execution_count": 2,
   "metadata": {},
   "outputs": [
    {
     "name": "stderr",
     "output_type": "stream",
     "text": [
      "Failed to detect the name of this notebook, you can set it manually with the WANDB_NOTEBOOK_NAME environment variable to enable code saving.\n",
      "\u001b[34m\u001b[1mwandb\u001b[0m: Currently logged in as: \u001b[33mnataliekraft5426\u001b[0m (\u001b[33mnak-develops\u001b[0m). Use \u001b[1m`wandb login --relogin`\u001b[0m to force relogin\n"
     ]
    },
    {
     "data": {
      "text/html": [
       "Tracking run with wandb version 0.13.6"
      ],
      "text/plain": [
       "<IPython.core.display.HTML object>"
      ]
     },
     "metadata": {},
     "output_type": "display_data"
    },
    {
     "data": {
      "text/html": [
       "Run data is saved locally in <code>/Users/nakraft/Documents/Curriculum Learning/hillylearning/src/wandb/run-20221213_005130-29c6cjku</code>"
      ],
      "text/plain": [
       "<IPython.core.display.HTML object>"
      ]
     },
     "metadata": {},
     "output_type": "display_data"
    },
    {
     "data": {
      "text/html": [
       "Syncing run <strong><a href=\"https://wandb.ai/nak-develops/hp-cl/runs/29c6cjku\" target=\"_blank\">ruby-wildflower-3</a></strong> to <a href=\"https://wandb.ai/nak-develops/hp-cl\" target=\"_blank\">Weights & Biases</a> (<a href=\"https://wandb.me/run\" target=\"_blank\">docs</a>)<br/>"
      ],
      "text/plain": [
       "<IPython.core.display.HTML object>"
      ]
     },
     "metadata": {},
     "output_type": "display_data"
    },
    {
     "data": {
      "text/html": [
       "<button onClick=\"this.nextSibling.style.display='block';this.style.display='none';\">Display W&B run</button><iframe src=\"https://wandb.ai/nak-develops/hp-cl/runs/29c6cjku?jupyter=true\" style=\"border:none;width:100%;height:420px;display:none;\"></iframe>"
      ],
      "text/plain": [
       "<wandb.sdk.wandb_run.Run at 0x286075af0>"
      ]
     },
     "execution_count": 2,
     "metadata": {},
     "output_type": "execute_result"
    }
   ],
   "source": [
    "import wandb\n",
    "\n",
    "wandb.init(project=\"hp-cl\", entity=\"nak-develops\")"
   ]
  },
  {
   "cell_type": "markdown",
   "metadata": {},
   "source": [
    "## Gather and preprocess text data "
   ]
  },
  {
   "cell_type": "code",
   "execution_count": 3,
   "metadata": {},
   "outputs": [
    {
     "data": {
      "text/plain": [
       "(22770, 7)"
      ]
     },
     "execution_count": 3,
     "metadata": {},
     "output_type": "execute_result"
    }
   ],
   "source": [
    "# mi_acl = pd.read_csv(\"../data/harrypotter_acl.csv\")\n",
    "# mi_acl = hp_acl[~pd.isna(hp_acl['sentence_clean'])]\n",
    "# mi_acl.shape\n",
    "\n",
    "mi_cl = pd.read_csv(\"../data/mind_cl.csv\")\n",
    "mi_cl = mi_cl[~pd.isna(mi_cl['sentence_clean'])]\n",
    "mi_cl.shape"
   ]
  },
  {
   "cell_type": "markdown",
   "metadata": {},
   "source": [
    "## Tokenize Input Data "
   ]
  },
  {
   "cell_type": "code",
   "execution_count": 4,
   "metadata": {},
   "outputs": [
    {
     "name": "stdout",
     "output_type": "stream",
     "text": [
      "Total Words: 179988\n",
      "Unique Words: 20901\n"
     ]
    }
   ],
   "source": [
    "from tensorflow.keras.preprocessing.text import Tokenizer\n",
    "from nltk.tokenize import word_tokenize\n",
    "\n",
    "# anti curriculum learning\n",
    "hp_text_words = \" \".join(mi_cl['sentence_clean'])\n",
    "\n",
    "hp_text_words = (word_tokenize(hp_text_words))\n",
    "n_words = len(hp_text_words)\n",
    "unique_words = len(set(hp_text_words))\n",
    "\n",
    "print('Total Words: %d' % n_words)\n",
    "print('Unique Words: %d' % unique_words)\n",
    "\n",
    "tokenizer = Tokenizer(num_words=n_words)\n",
    "tokenizer.fit_on_texts(hp_text_words)"
   ]
  },
  {
   "cell_type": "code",
   "execution_count": 5,
   "metadata": {},
   "outputs": [
    {
     "name": "stdout",
     "output_type": "stream",
     "text": [
      "Vocab Size: 20902\n"
     ]
    }
   ],
   "source": [
    "vocab_size = len(tokenizer.word_index) + 1\n",
    "word_2_index = tokenizer.word_index\n",
    "print(\"Vocab Size: \" + str(vocab_size))"
   ]
  },
  {
   "cell_type": "markdown",
   "metadata": {},
   "source": [
    "## Modify the shape of the data "
   ]
  },
  {
   "cell_type": "code",
   "execution_count": 6,
   "metadata": {},
   "outputs": [
    {
     "name": "stdout",
     "output_type": "stream",
     "text": [
      "[1424, 1735, 7153, 3037, 7154, 3854, 2005, 3037, 3038, 3037]\n"
     ]
    }
   ],
   "source": [
    "input_sequence = []\n",
    "output_words = []\n",
    "input_seq_length = 10\n",
    "\n",
    "for i in range(0, n_words - input_seq_length , 1):\n",
    "    in_seq = hp_text_words[i:i + input_seq_length]\n",
    "    out_seq = hp_text_words[i + input_seq_length]\n",
    "    input_sequence.append([word_2_index[word] for word in in_seq])\n",
    "    output_words.append(word_2_index[out_seq])\n",
    "\n",
    "print(input_sequence[0])"
   ]
  },
  {
   "cell_type": "code",
   "execution_count": 7,
   "metadata": {},
   "outputs": [],
   "source": [
    "X = np.reshape(input_sequence, (len(input_sequence), input_seq_length, 1))\n",
    "X = X / float(vocab_size)\n",
    "\n",
    "y = to_categorical(output_words)"
   ]
  },
  {
   "cell_type": "code",
   "execution_count": 8,
   "metadata": {},
   "outputs": [
    {
     "name": "stdout",
     "output_type": "stream",
     "text": [
      "X shape: (179978, 10, 1)\n",
      "y shape: (179978, 20902)\n"
     ]
    }
   ],
   "source": [
    "print(\"X shape:\", X.shape)\n",
    "print(\"y shape:\", y.shape)"
   ]
  },
  {
   "cell_type": "markdown",
   "metadata": {},
   "source": [
    "## Training the Model"
   ]
  },
  {
   "cell_type": "code",
   "execution_count": 9,
   "metadata": {},
   "outputs": [
    {
     "name": "stdout",
     "output_type": "stream",
     "text": [
      "Model: \"sequential\"\n",
      "_________________________________________________________________\n",
      " Layer (type)                Output Shape              Param #   \n",
      "=================================================================\n",
      " lstm (LSTM)                 (None, 10, 800)           2566400   \n",
      "                                                                 \n",
      " lstm_1 (LSTM)               (None, 10, 800)           5123200   \n",
      "                                                                 \n",
      " lstm_2 (LSTM)               (None, 800)               5123200   \n",
      "                                                                 \n",
      " dense (Dense)               (None, 20902)             16742502  \n",
      "                                                                 \n",
      "=================================================================\n",
      "Total params: 29,555,302\n",
      "Trainable params: 29,555,302\n",
      "Non-trainable params: 0\n",
      "_________________________________________________________________\n",
      "Epoch 1/4\n"
     ]
    },
    {
     "name": "stderr",
     "output_type": "stream",
     "text": [
      "2022-12-13 00:51:38.705662: W tensorflow/core/platform/profile_utils/cpu_utils.cc:128] Failed to get CPU frequency: 0 Hz\n"
     ]
    },
    {
     "name": "stdout",
     "output_type": "stream",
     "text": [
      "  76/2250 [>.............................] - ETA: 22:11 - loss: 9.3774"
     ]
    },
    {
     "name": "stderr",
     "output_type": "stream",
     "text": [
      "wandb: Network error (ConnectTimeout), entering retry loop.\n"
     ]
    },
    {
     "name": "stdout",
     "output_type": "stream",
     "text": [
      "2250/2250 [==============================] - 1332s 589ms/step - loss: 8.8391\n",
      "Epoch 2/4\n",
      "2250/2250 [==============================] - 1293s 575ms/step - loss: 8.8249\n",
      "Epoch 3/4\n",
      "2250/2250 [==============================] - 1290s 573ms/step - loss: 8.7689\n",
      "Epoch 4/4\n",
      " 723/2250 [========>.....................] - ETA: 14:37 - loss: 8.6567"
     ]
    },
    {
     "name": "stderr",
     "output_type": "stream",
     "text": [
      "wandb: Network error (ConnectionError), entering retry loop.\n"
     ]
    },
    {
     "name": "stdout",
     "output_type": "stream",
     "text": [
      "2250/2250 [==============================] - 1293s 575ms/step - loss: 8.6568\n"
     ]
    },
    {
     "data": {
      "text/plain": [
       "<keras.callbacks.History at 0x659d5dcd0>"
      ]
     },
     "execution_count": 9,
     "metadata": {},
     "output_type": "execute_result"
    }
   ],
   "source": [
    "model = Sequential()\n",
    "model.add(LSTM(800, input_shape=(X.shape[1], X.shape[2]), return_sequences=True))\n",
    "model.add(LSTM(800, return_sequences=True))\n",
    "model.add(LSTM(800))\n",
    "model.add(Dense(y.shape[1], activation='softmax'))\n",
    "\n",
    "model.summary()\n",
    "\n",
    "model.compile(loss='categorical_crossentropy', optimizer='adam')\n",
    "\n",
    "model.fit(X, y, batch_size=80, epochs=4, verbose=1)"
   ]
  },
  {
   "cell_type": "markdown",
   "metadata": {},
   "source": [
    "## Experiment "
   ]
  },
  {
   "cell_type": "code",
   "execution_count": 25,
   "metadata": {},
   "outputs": [],
   "source": [
    "predicted_w = []\n",
    "def prediction(sent):\n",
    "    random_seq = [word_2_index[i] for i in sent]\n",
    "    print(random_seq)\n",
    "    index_2_word = dict(map(reversed, word_2_index.items()))\n",
    "\n",
    "    word_sequence = [index_2_word[value] for value in random_seq]\n",
    "\n",
    "    print(' '.join(word_sequence))\n",
    "\n",
    "    [predicted_w.append(t) for t in random_seq]\n",
    "    for i in range(10):\n",
    "        int_sample = np.reshape(random_seq, (1, len(random_seq), 1))\n",
    "        int_sample = int_sample / float(vocab_size)\n",
    "        predicted_word_index = model.predict(int_sample, verbose=0)\n",
    "        aa = pd.DataFrame(predicted_word_index).transpose().reset_index()\n",
    "        aa = aa.loc[~aa.index.isin(predicted_w)]\n",
    "        predicted_word_id = aa.sort_values(by=[0], ascending=False).reset_index()['index'][0]\n",
    "\n",
    "        predicted_w.append(predicted_word_id)\n",
    "        seq_in = [index_2_word[index] for index in random_seq]\n",
    "        word_sequence.append(index_2_word[ predicted_word_id])\n",
    "\n",
    "        random_seq.append(predicted_word_id)\n",
    "        random_seq = random_seq[1:len(random_seq)]\n",
    "\n",
    "\n",
    "    final_output = \"\"\n",
    "    for word in word_sequence:\n",
    "        final_output = final_output + \" \" + word\n",
    "\n",
    "    print(final_output)"
   ]
  },
  {
   "cell_type": "code",
   "execution_count": 34,
   "metadata": {},
   "outputs": [],
   "source": [
    "trans1 = ['team', 'won', 'against', 'messi', 'he', 'went', 'all', 'out', 'on', 'team']\n",
    "trans2 = ['marc', 'blanchette', 'holds', 'his', 'ellsworth', 'city', 'council', 'seat', 'after']\n",
    "trans3 = ['republicans', 'argue', 'impeachment', 'case', 'falls', 'short', 'of', 'proving', 'trump', 'misconduct']\n",
    "trans4 = ['miami', 'dade', 'mayor', 'carlos', 'gimenez', 'vetoes', 'resolution', 'that', 'would', 'have']\n",
    "trans5 = ['chemical', 'plant', 'sued', 'for', 'poor', 'care', 'of', 'toxic', 'materials', 'throughout']"
   ]
  },
  {
   "cell_type": "code",
   "execution_count": 27,
   "metadata": {},
   "outputs": [
    {
     "name": "stdout",
     "output_type": "stream",
     "text": [
      "[62, 2018, 1412, 10350, 1061, 929, 1280, 544, 61, 62]\n",
      "team won against messi he went all out on team\n",
      " team won against messi he went all out on team new state trump to says school week man in best\n"
     ]
    }
   ],
   "source": [
    "prediction(trans1)"
   ]
  },
  {
   "cell_type": "code",
   "execution_count": 28,
   "metadata": {},
   "outputs": [
    {
     "name": "stdout",
     "output_type": "stream",
     "text": [
      "[10789, 15695, 1156, 846, 15696, 32, 525, 936, 156]\n",
      "marc blanchette holds his ellsworth city council seat after\n",
      " marc blanchette holds his ellsworth city council seat after vs football police impeachment the day year home first county\n"
     ]
    }
   ],
   "source": [
    "prediction(trans2)"
   ]
  },
  {
   "cell_type": "code",
   "execution_count": 29,
   "metadata": {},
   "outputs": [
    {
     "name": "stdout",
     "output_type": "stream",
     "text": [
      "[599, 6223, 17, 217, 408, 682, 33, 6160, 2, 2825]\n",
      "republicans argue impeachment case falls short of proving trump misconduct\n",
      " republicans argue impeachment case falls short of proving trump misconduct high get game veterans top win one season back fire\n"
     ]
    }
   ],
   "source": [
    "prediction(trans3)"
   ]
  },
  {
   "cell_type": "code",
   "execution_count": 30,
   "metadata": {},
   "outputs": [
    {
     "name": "stdout",
     "output_type": "stream",
     "text": [
      "[121, 1719, 265, 2732, 18557, 18558, 2736, 561, 221, 981]\n",
      "miami dade mayor carlos gimenez vetoes resolution that would have\n",
      " miami dade mayor carlos gimenez vetoes resolution that would have report crash woman time old weather st make could shooting\n"
     ]
    }
   ],
   "source": [
    "prediction(trans4)\n"
   ]
  },
  {
   "cell_type": "code",
   "execution_count": 35,
   "metadata": {},
   "outputs": [
    {
     "name": "stdout",
     "output_type": "stream",
     "text": [
      "[4414, 1541, 3660, 29, 2087, 426, 33, 3088, 10892, 4203]\n",
      "chemical plant sued for poor care of toxic materials throughout\n",
      " chemical plant sued for poor care of toxic materials throughout snow cold watch nfl killed us say world family found\n"
     ]
    }
   ],
   "source": [
    "prediction(trans5)"
   ]
  },
  {
   "cell_type": "code",
   "execution_count": null,
   "metadata": {},
   "outputs": [],
   "source": []
  }
 ],
 "metadata": {
  "kernelspec": {
   "display_name": "venv-metal",
   "language": "python",
   "name": "venv-metal"
  },
  "language_info": {
   "codemirror_mode": {
    "name": "ipython",
    "version": 3
   },
   "file_extension": ".py",
   "mimetype": "text/x-python",
   "name": "python",
   "nbconvert_exporter": "python",
   "pygments_lexer": "ipython3",
   "version": "3.9.12"
  },
  "orig_nbformat": 4,
  "vscode": {
   "interpreter": {
    "hash": "b0fa6594d8f4cbf19f97940f81e996739fb7646882a419484c72d19e05852a7e"
   }
  }
 },
 "nbformat": 4,
 "nbformat_minor": 2
}
