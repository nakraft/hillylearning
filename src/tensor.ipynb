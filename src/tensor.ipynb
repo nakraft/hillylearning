{
 "cells": [
  {
   "cell_type": "code",
   "execution_count": 6,
   "metadata": {},
   "outputs": [
    {
     "name": "stderr",
     "output_type": "stream",
     "text": [
      "Downloading: 100%|██████████| 9.81k/9.81k [00:00<00:00, 6.63MB/s]\n",
      "Setting `pad_token_id` to `eos_token_id`:50256 for open-end generation.\n",
      "/Users/nakraft/venv-metal/lib/python3.9/site-packages/transformers/generation_utils.py:1359: UserWarning: Neither `max_length` nor `max_new_tokens` has been set, `max_length` will default to 50 (`self.config.max_length`). Controlling `max_length` via the config is deprecated and `max_length` will be removed from the config in v5 of Transformers -- we recommend using `max_new_tokens` to control the maximum length of the generation.\n",
      "  warnings.warn(\n",
      "Setting `pad_token_id` to `eos_token_id`:50256 for open-end generation.\n"
     ]
    }
   ],
   "source": [
    "from transformers import pipeline, set_seed\n",
    "\n",
    "generator = pipeline(model=\"gpt2\")\n",
    "generator(\"I can't believe you did such a \", do_sample=False)\n",
    "\n",
    "# These parameters will return suggestions, and only the newly created text making it easier for prompting suggestions.\n",
    "outputs = generator(\"My tart needs some\", num_return_sequences=4, return_full_text=False)"
   ]
  },
  {
   "cell_type": "code",
   "execution_count": 4,
   "metadata": {},
   "outputs": [
    {
     "name": "stderr",
     "output_type": "stream",
     "text": [
      "Setting `pad_token_id` to `eos_token_id`:50256 for open-end generation.\n",
      "/Users/nakraft/venv-metal/lib/python3.9/site-packages/transformers/generation_utils.py:1359: UserWarning: Neither `max_length` nor `max_new_tokens` has been set, `max_length` will default to 50 (`self.config.max_length`). Controlling `max_length` via the config is deprecated and `max_length` will be removed from the config in v5 of Transformers -- we recommend using `max_new_tokens` to control the maximum length of the generation.\n",
      "  warnings.warn(\n"
     ]
    },
    {
     "data": {
      "text/plain": [
       "[{'generated_text': ' Harry Potter author! His current book, Harry Potter and the Order of the Phoenix, is called \"All Shall Be Well – Deathly Hallows.\" His latest book is \"Alchemical Mysteries of Love and Death.\" It\\'s a'},\n",
       " {'generated_text': ' wizard, and Hermione, like Draco, was a wizard. She did not want to be married to Snape.\\n\\nWhat did Draco want Hermione to do with him? Was he to stay or to become a Dark Lord? What'},\n",
       " {'generated_text': ' very important figure in the Wizarding world, but is not even there in the books - yet...well, until now.\\n\\nIt may perhaps be surprising that the Harry Potter author Harry Potter and Neville Longbottom was not reading'},\n",
       " {'generated_text': \" boy. Harry, from your point of view, is a boy. You know that Harry Potter is a wizard? And you like him? And you've got a friend and it's all cool? Now you talk, Harry,\"}]"
      ]
     },
     "execution_count": 4,
     "metadata": {},
     "output_type": "execute_result"
    }
   ],
   "source": [
    "outputs = generator(\"Harry Potter is a\", num_return_sequences=4, return_full_text=False)\n",
    "outputs"
   ]
  },
  {
   "cell_type": "code",
   "execution_count": null,
   "metadata": {},
   "outputs": [],
   "source": [
    "outputs = generator(\"Harry Potter is a\", num_return_sequences=4, return_full_text=False)"
   ]
  },
  {
   "cell_type": "code",
   "execution_count": 7,
   "metadata": {},
   "outputs": [
    {
     "name": "stderr",
     "output_type": "stream",
     "text": [
      "Downloading: 100%|██████████| 644/644 [00:00<00:00, 423kB/s]\n",
      "Downloading: 100%|██████████| 663M/663M [00:18<00:00, 35.3MB/s] \n",
      "Downloading: 100%|██████████| 685/685 [00:00<00:00, 556kB/s]\n",
      "Downloading: 100%|██████████| 899k/899k [00:00<00:00, 5.23MB/s]\n",
      "Downloading: 100%|██████████| 456k/456k [00:00<00:00, 4.06MB/s]\n",
      "Downloading: 100%|██████████| 441/441 [00:00<00:00, 237kB/s]\n"
     ]
    }
   ],
   "source": [
    "set_seed(32)\n",
    "generator2 = pipeline('text-generation', model=\"facebook/opt-350m\", do_sample=True)"
   ]
  },
  {
   "cell_type": "code",
   "execution_count": 8,
   "metadata": {},
   "outputs": [
    {
     "data": {
      "text/plain": [
       "[{'generated_text': 'Scuba diving is a very popular sport for kids. We have to work in such a short time'}]"
      ]
     },
     "execution_count": 8,
     "metadata": {},
     "output_type": "execute_result"
    }
   ],
   "source": [
    "generator2(\"Scuba diving is\")"
   ]
  },
  {
   "cell_type": "code",
   "execution_count": 9,
   "metadata": {},
   "outputs": [
    {
     "data": {
      "text/plain": [
       "[{'generated_text': 'Meditating in the grass, in a different room, reading a book, watching TV, and just'}]"
      ]
     },
     "execution_count": 9,
     "metadata": {},
     "output_type": "execute_result"
    }
   ],
   "source": [
    "generator2(\"Meditating in the grass\")"
   ]
  },
  {
   "cell_type": "code",
   "execution_count": 12,
   "metadata": {},
   "outputs": [
    {
     "data": {
      "text/plain": [
       "[{'generated_text': 'Mitochondrion articulate a molecular system containing a multiplicity of active sites, whose location and activity'}]"
      ]
     },
     "execution_count": 12,
     "metadata": {},
     "output_type": "execute_result"
    }
   ],
   "source": [
    "generator2(\"Mitochondrion articulate a\")"
   ]
  }
 ],
 "metadata": {
  "kernelspec": {
   "display_name": "venv-metal",
   "language": "python",
   "name": "venv-metal"
  },
  "language_info": {
   "codemirror_mode": {
    "name": "ipython",
    "version": 3
   },
   "file_extension": ".py",
   "mimetype": "text/x-python",
   "name": "python",
   "nbconvert_exporter": "python",
   "pygments_lexer": "ipython3",
   "version": "3.9.12"
  },
  "orig_nbformat": 4
 },
 "nbformat": 4,
 "nbformat_minor": 2
}
